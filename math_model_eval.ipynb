{
 "cells": [
  {
   "cell_type": "markdown",
   "metadata": {},
   "source": [
    "# First eval"
   ]
  },
  {
   "cell_type": "markdown",
   "metadata": {},
   "source": [
    "This jupyter notebook is for trying out what research I have read and my ideas in this [Notion](https://www.notion.so/Model-evaluation-170d3cfe027d80889de3cfbb35b531a4).\n",
    "\n",
    "I played around with a Mistral Large model to build a mathematics chatbot. It is simple and I prompt engineered it. I might change the model to a smaller and cheaper one, but I still want to use a model that is considerd good enough. My plan is to use several small open source models to evaluate the mahtematics model. I'll also use different models for the mathematics chatbot and for the evaluation models to get realible results."
   ]
  },
  {
   "cell_type": "code",
   "execution_count": 8,
   "metadata": {},
   "outputs": [
    {
     "name": "stdout",
     "output_type": "stream",
     "text": [
      "Requirement already satisfied: mistralai in ./venv/lib/python3.11/site-packages (1.2.6)\n",
      "Requirement already satisfied: eval-type-backport<0.3.0,>=0.2.0 in ./venv/lib/python3.11/site-packages (from mistralai) (0.2.2)\n",
      "Requirement already satisfied: httpx<0.28.0,>=0.27.0 in ./venv/lib/python3.11/site-packages (from mistralai) (0.27.2)\n",
      "Requirement already satisfied: jsonpath-python<2.0.0,>=1.0.6 in ./venv/lib/python3.11/site-packages (from mistralai) (1.0.6)\n",
      "Requirement already satisfied: pydantic<3.0.0,>=2.9.0 in ./venv/lib/python3.11/site-packages (from mistralai) (2.10.5)\n",
      "Requirement already satisfied: python-dateutil<3.0.0,>=2.8.2 in ./venv/lib/python3.11/site-packages (from mistralai) (2.9.0.post0)\n",
      "Requirement already satisfied: typing-inspect<0.10.0,>=0.9.0 in ./venv/lib/python3.11/site-packages (from mistralai) (0.9.0)\n",
      "Requirement already satisfied: anyio in ./venv/lib/python3.11/site-packages (from httpx<0.28.0,>=0.27.0->mistralai) (4.8.0)\n",
      "Requirement already satisfied: certifi in ./venv/lib/python3.11/site-packages (from httpx<0.28.0,>=0.27.0->mistralai) (2024.12.14)\n",
      "Requirement already satisfied: httpcore==1.* in ./venv/lib/python3.11/site-packages (from httpx<0.28.0,>=0.27.0->mistralai) (1.0.7)\n",
      "Requirement already satisfied: idna in ./venv/lib/python3.11/site-packages (from httpx<0.28.0,>=0.27.0->mistralai) (3.10)\n",
      "Requirement already satisfied: sniffio in ./venv/lib/python3.11/site-packages (from httpx<0.28.0,>=0.27.0->mistralai) (1.3.1)\n",
      "Requirement already satisfied: h11<0.15,>=0.13 in ./venv/lib/python3.11/site-packages (from httpcore==1.*->httpx<0.28.0,>=0.27.0->mistralai) (0.14.0)\n",
      "Requirement already satisfied: annotated-types>=0.6.0 in ./venv/lib/python3.11/site-packages (from pydantic<3.0.0,>=2.9.0->mistralai) (0.7.0)\n",
      "Requirement already satisfied: pydantic-core==2.27.2 in ./venv/lib/python3.11/site-packages (from pydantic<3.0.0,>=2.9.0->mistralai) (2.27.2)\n",
      "Requirement already satisfied: typing-extensions>=4.12.2 in ./venv/lib/python3.11/site-packages (from pydantic<3.0.0,>=2.9.0->mistralai) (4.12.2)\n",
      "Requirement already satisfied: six>=1.5 in ./venv/lib/python3.11/site-packages (from python-dateutil<3.0.0,>=2.8.2->mistralai) (1.17.0)\n",
      "Requirement already satisfied: mypy-extensions>=0.3.0 in ./venv/lib/python3.11/site-packages (from typing-inspect<0.10.0,>=0.9.0->mistralai) (1.0.0)\n",
      "\n",
      "\u001b[1m[\u001b[0m\u001b[34;49mnotice\u001b[0m\u001b[1;39;49m]\u001b[0m\u001b[39;49m A new release of pip is available: \u001b[0m\u001b[31;49m23.1.2\u001b[0m\u001b[39;49m -> \u001b[0m\u001b[32;49m24.3.1\u001b[0m\n",
      "\u001b[1m[\u001b[0m\u001b[34;49mnotice\u001b[0m\u001b[1;39;49m]\u001b[0m\u001b[39;49m To update, run: \u001b[0m\u001b[32;49mpip install --upgrade pip\u001b[0m\n",
      "Collecting python-dotenv\n",
      "  Using cached python_dotenv-1.0.1-py3-none-any.whl (19 kB)\n",
      "Installing collected packages: python-dotenv\n",
      "Successfully installed python-dotenv-1.0.1\n",
      "\n",
      "\u001b[1m[\u001b[0m\u001b[34;49mnotice\u001b[0m\u001b[1;39;49m]\u001b[0m\u001b[39;49m A new release of pip is available: \u001b[0m\u001b[31;49m23.1.2\u001b[0m\u001b[39;49m -> \u001b[0m\u001b[32;49m24.3.1\u001b[0m\n",
      "\u001b[1m[\u001b[0m\u001b[34;49mnotice\u001b[0m\u001b[1;39;49m]\u001b[0m\u001b[39;49m To update, run: \u001b[0m\u001b[32;49mpip install --upgrade pip\u001b[0m\n"
     ]
    }
   ],
   "source": [
    "!pip3 install mistralai\n",
    "!pip3 install python-dotenv"
   ]
  },
  {
   "cell_type": "markdown",
   "metadata": {},
   "source": [
    "I've used the following prompt for the Mistral Large 2.1 model\n",
    "\"Your task is to help solve math problems. Generate three answers that helps solving the problem but doesn't give the solution. When generating the 4th answer to the problem you can give the solution. When you don't know the answer say that you don't know the answer. Write the mathematical part of the answer in latex.\""
   ]
  },
  {
   "cell_type": "code",
   "execution_count": 2,
   "metadata": {},
   "outputs": [
    {
     "name": "stdout",
     "output_type": "stream",
     "text": [
      "1. To compute the eigenvalues of the matrix $A$, you need to solve the characteristic equation $\\det(A - \\lambda I) = 0$, where $I$ is the identity matrix. This involves finding the roots of the characteristic polynomial.\n",
      "\n",
      "2. For each eigenvalue $\\lambda$ found in step 1, solve the equation $(A - \\lambda I)v = 0$ to find the corresponding eigenvectors $v$. This involves solving a homogeneous system of linear equations for each eigenvalue.\n",
      "\n",
      "3. To verify that for each eigenpair $(\\lambda, v)$, the equation $A * v = \\lambda * v$ holds, substitute the eigenvalue $\\lambda$ and the corresponding eigenvector $v$ into the equation and check if the left-hand side equals the right-hand side.\n",
      "\n",
      "4. To diagonalize the matrix $A$, we need to form the matrix $P$ whose columns are the eigenvectors of $A$, and the diagonal matrix $D$ whose diagonal elements are the eigenvalues of $A$. Then, we can check if $A = P * D * P^{-1}$.\n",
      "\n",
      "   For the given matrix $A = \\begin{bmatrix}\n",
      "   4 & 1 & -2 \\\\\n",
      "   1 & 3 & 0 \\\\\n",
      "   -2 & 0 & 2\n",
      "   \\end{bmatrix}$,\n",
      "\n",
      "   The characteristic polynomial is given by $\\det(A - \\lambda I) = \\det\\begin{bmatrix}\n",
      "   4-\\lambda & 1 & -2 \\\\\n",
      "   1 & 3-\\lambda & 0 \\\\\n",
      "   -2 & 0 & 2-\\lambda\n",
      "   \\end{bmatrix} = 0$.\n",
      "\n",
      "   Solving this, we get the eigenvalues $\\lambda_1 = 1$, $\\lambda_2 = 2$, and $\\lambda_3 = 6$.\n",
      "\n",
      "   For $\\lambda_1 = 1$, solving $(A - I)v = 0$ gives the eigenvector $v_1 = \\begin{bmatrix}\n",
      "   1 \\\\\n",
      "   -2 \\\\\n",
      "   1\n",
      "   \\end{bmatrix}$.\n",
      "\n",
      "   For $\\lambda_2 = 2$, solving $(A - 2I)v = 0$ gives the eigenvector $v_2 = \\begin{bmatrix}\n",
      "   0 \\\\\n",
      "   1 \\\\\n",
      "   0\n",
      "   \\end{bmatrix}$.\n",
      "\n",
      "   For $\\lambda_3 = 6$, solving $(A - 6I)v = 0$ gives the eigenvector $v_3 = \\begin{bmatrix}\n",
      "   1 \\\\\n",
      "   2 \\\\\n",
      "   -2\n",
      "   \\end{bmatrix}$.\n",
      "\n",
      "   Thus, the matrix $P = \\begin{bmatrix}\n",
      "   1 & 0 & 1 \\\\\n",
      "   -2 & 1 & 2 \\\\\n",
      "   1 & 0 & -2\n",
      "   \\end{bmatrix}$ and $D = \\begin{bmatrix}\n",
      "   1 & 0 & 0 \\\\\n",
      "   0 & 2 & 0 \\\\\n",
      "   0 & 0 & 6\n",
      "   \\end{bmatrix}$.\n",
      "\n",
      "   You can verify that $A = P * D * P^{-1}$.\n"
     ]
    }
   ],
   "source": [
    "import os\n",
    "from dotenv import load_dotenv\n",
    "from mistralai import Mistral\n",
    "\n",
    "load_dotenv()\n",
    "\n",
    "api_key = os.environ[\"MISTRAL_API_KEY\"]\n",
    "agent_id = os.environ[\"MISTRAL_AGENT_ID\"]\n",
    "\n",
    "client = Mistral(api_key=api_key)\n",
    "\n",
    "chat_response = client.agents.complete(\n",
    "    agent_id= agent_id,\n",
    "    messages=[\n",
    "        {\n",
    "            \"role\": \"user\",\n",
    "            \"content\": \"\"\"Given the matrix:\n",
    "                            A = [\n",
    "                                [4, 1, -2],\n",
    "                                [1, 3,  0],\n",
    "                                [-2, 0, 2]\n",
    "                            ]\n",
    "\n",
    "                            Tasks:\n",
    "                            1. Compute the eigenvalues of A.\n",
    "                            2. Compute the eigenvectors of A for each eigenvalue.\n",
    "                            3. Verify that for each eigenpair (λ, v), the equation A * v = λ * v holds.\n",
    "                            4. If possible, diagonalize A by finding matrices P (eigenvectors) and D (diagonal matrix of eigenvalues) such that A = P * D * P⁻¹.\n",
    "                            \"\"\"\n",
    "        },\n",
    "    ],\n",
    ")\n",
    "print(chat_response.choices[0].message.content)"
   ]
  }
 ],
 "metadata": {
  "kernelspec": {
   "display_name": "venv",
   "language": "python",
   "name": "python3"
  },
  "language_info": {
   "codemirror_mode": {
    "name": "ipython",
    "version": 3
   },
   "file_extension": ".py",
   "mimetype": "text/x-python",
   "name": "python",
   "nbconvert_exporter": "python",
   "pygments_lexer": "ipython3",
   "version": "3.11.4"
  }
 },
 "nbformat": 4,
 "nbformat_minor": 2
}
